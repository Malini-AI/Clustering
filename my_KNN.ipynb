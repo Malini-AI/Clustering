{
 "cells": [
  {
   "cell_type": "code",
   "execution_count": 0,
   "metadata": {
    "colab": {},
    "colab_type": "code",
    "id": "QhmPAR-4z2mT"
   },
   "outputs": [],
   "source": [
    "import pandas as pd\n",
    "from sklearn.model_selection import train_test_split\n",
    "from sklearn import metrics #Import scikit-learn metrics module for accuracy calculation\n",
    "import numpy as np\n",
    "import math\n",
    "from sklearn import preprocessing\n",
    "from sklearn.preprocessing import StandardScaler\n",
    "import matplotlib.pyplot as plt\n",
    "import pylab as pl\n",
    "import math\n",
    "from sklearn.metrics.pairwise import paired_distances\n",
    "from scipy.spatial import distance\n",
    "from operator import itemgetter "
   ]
  },
  {
   "cell_type": "code",
   "execution_count": 0,
   "metadata": {
    "colab": {},
    "colab_type": "code",
    "id": "psd_MGfvK7sD"
   },
   "outputs": [],
   "source": [
    "k = 3"
   ]
  },
  {
   "cell_type": "code",
   "execution_count": 0,
   "metadata": {
    "colab": {},
    "colab_type": "code",
    "id": "7GWxt60T0OQs"
   },
   "outputs": [],
   "source": [
    "df=pd.read_csv(\"data.csv\")\n",
    "df.drop(df.index[0])\n",
    "\n",
    "row, col = df.shape\n",
    "\n",
    "X = df.iloc[:, 0:col - 1].values\n",
    "y = df.iloc[:, col - 1].values\n",
    "X = pd.DataFrame(data= X)\n"
   ]
  },
  {
   "cell_type": "code",
   "execution_count": 0,
   "metadata": {
    "colab": {},
    "colab_type": "code",
    "id": "iCCUXKZe0OTR"
   },
   "outputs": [],
   "source": [
    "x_train, x_test, y_train, y_test = train_test_split(X, y, test_size = 0.2)"
   ]
  },
  {
   "cell_type": "code",
   "execution_count": 0,
   "metadata": {
    "colab": {},
    "colab_type": "code",
    "id": "oCt-5DL-0OVz"
   },
   "outputs": [],
   "source": [
    "from sklearn.preprocessing import StandardScaler\n",
    "scaler = StandardScaler()\n",
    "scaler.fit(x_train)\n",
    "\n",
    "x_train = scaler.transform(x_train)\n",
    "x_test = scaler.transform(x_test)"
   ]
  },
  {
   "cell_type": "code",
   "execution_count": 8,
   "metadata": {
    "colab": {
     "base_uri": "https://localhost:8080/",
     "height": 35
    },
    "colab_type": "code",
    "id": "iy5E6bcp0OYw",
    "outputId": "bfd76f3b-82ad-40c0-a6aa-6d7ed7ffde06"
   },
   "outputs": [
    {
     "name": "stdout",
     "output_type": "stream",
     "text": [
      "32764 8192\n"
     ]
    }
   ],
   "source": [
    "train_len, test_len = len(x_train), len(x_test)\n",
    "print(train_len, test_len)"
   ]
  },
  {
   "cell_type": "code",
   "execution_count": 0,
   "metadata": {
    "colab": {},
    "colab_type": "code",
    "id": "mA0ZuK_y1Q6J"
   },
   "outputs": [],
   "source": [
    "# splitting test data to batches:\n",
    "num_batch = test_len // 2000\n",
    "batches = np.array(np.array_split(np.array(x_test),num_batch))"
   ]
  },
  {
   "cell_type": "code",
   "execution_count": 0,
   "metadata": {
    "colab": {},
    "colab_type": "code",
    "id": "liJasW5B-Swv"
   },
   "outputs": [],
   "source": [
    "def euclidean_dist(data1, data2):\n",
    "    if data1.shape != data2.shape:\n",
    "        raise ValueError(\"Two array must be same dimension\")\n",
    "    difference = np.power(data1 - data2, 2)\n",
    "    sum_diff = np.sum(difference, axis=1)\n",
    "    return np.sqrt(sum_diff)"
   ]
  },
  {
   "cell_type": "code",
   "execution_count": 11,
   "metadata": {
    "colab": {
     "base_uri": "https://localhost:8080/",
     "height": 35
    },
    "colab_type": "code",
    "id": "MOzk-KJtjf2q",
    "outputId": "9b193054-a05f-43a4-e5d1-0ecb95069983"
   },
   "outputs": [
    {
     "name": "stdout",
     "output_type": "stream",
     "text": [
      "2048\n"
     ]
    }
   ],
   "source": [
    "print(len(batches[0]))"
   ]
  },
  {
   "cell_type": "code",
   "execution_count": 0,
   "metadata": {
    "colab": {},
    "colab_type": "code",
    "id": "hcNP6LcclTHn"
   },
   "outputs": [],
   "source": [
    "y_pred = []\n",
    "for batch in batches:\n",
    "  for t_data in batch:\n",
    "    dist = {}\n",
    "    res = {}\n",
    "    distance = []\n",
    "    test = np.tile(t_data,(train_len,1))\n",
    "    distance = euclidean_dist(test,x_train) # to know distance from a test point is to each point in training data\n",
    "    for val in range(len(x_train)):\n",
    "      idx = distance[val]\n",
    "      dist[idx] = y_train[val]  # appending euclidean distance to a label in train dataset for a single test sample to all training sample\n",
    "    res = dict(sorted(dist.items(), key = itemgetter(0))[:k])   # dictionary with elements with least distance\n",
    "    to_list=list(res.values())    # extracting dictionary values to list\n",
    "    _res = max(set(to_list), key = to_list.count)  # voting. Take maximum occuring y label \n",
    "    y_pred.append(_res)\n"
   ]
  },
  {
   "cell_type": "code",
   "execution_count": 19,
   "metadata": {
    "colab": {
     "base_uri": "https://localhost:8080/",
     "height": 35
    },
    "colab_type": "code",
    "id": "s3CKYqRcSOLO",
    "outputId": "b80a48ab-9435-4f7e-b0a9-c2d629920581"
   },
   "outputs": [
    {
     "name": "stdout",
     "output_type": "stream",
     "text": [
      "11.0 11.0\n"
     ]
    }
   ],
   "source": [
    "print(y_pred[10],y_test[10])"
   ]
  },
  {
   "cell_type": "code",
   "execution_count": 0,
   "metadata": {
    "colab": {},
    "colab_type": "code",
    "id": "3BOUrpLu1RMt"
   },
   "outputs": [],
   "source": []
  },
  {
   "cell_type": "code",
   "execution_count": 0,
   "metadata": {
    "colab": {},
    "colab_type": "code",
    "id": "2eS64rw21RP0"
   },
   "outputs": [],
   "source": []
  },
  {
   "cell_type": "code",
   "execution_count": 0,
   "metadata": {
    "colab": {},
    "colab_type": "code",
    "id": "K5mU-89-1RSZ"
   },
   "outputs": [],
   "source": []
  },
  {
   "cell_type": "code",
   "execution_count": 0,
   "metadata": {
    "colab": {},
    "colab_type": "code",
    "id": "SJXR6YYB1RVE"
   },
   "outputs": [],
   "source": []
  },
  {
   "cell_type": "code",
   "execution_count": 0,
   "metadata": {
    "colab": {},
    "colab_type": "code",
    "id": "wIzjR1GO1RX5"
   },
   "outputs": [],
   "source": []
  },
  {
   "cell_type": "code",
   "execution_count": 0,
   "metadata": {
    "colab": {},
    "colab_type": "code",
    "id": "5T0L8ubx1Raq"
   },
   "outputs": [],
   "source": []
  },
  {
   "cell_type": "code",
   "execution_count": 0,
   "metadata": {
    "colab": {},
    "colab_type": "code",
    "id": "R0eAUhQs1RdY"
   },
   "outputs": [],
   "source": []
  },
  {
   "cell_type": "code",
   "execution_count": 0,
   "metadata": {
    "colab": {},
    "colab_type": "code",
    "id": "CHY3l-IR1RgL"
   },
   "outputs": [],
   "source": []
  },
  {
   "cell_type": "code",
   "execution_count": 0,
   "metadata": {
    "colab": {},
    "colab_type": "code",
    "id": "EJeQDj2b1Rje"
   },
   "outputs": [],
   "source": []
  },
  {
   "cell_type": "code",
   "execution_count": 0,
   "metadata": {
    "colab": {},
    "colab_type": "code",
    "id": "YPmdyakJ0Obi"
   },
   "outputs": [],
   "source": []
  },
  {
   "cell_type": "code",
   "execution_count": 0,
   "metadata": {
    "colab": {},
    "colab_type": "code",
    "id": "dBCkp5a-0OeG"
   },
   "outputs": [],
   "source": []
  },
  {
   "cell_type": "code",
   "execution_count": 0,
   "metadata": {
    "colab": {},
    "colab_type": "code",
    "id": "bNKOPmPL0OhX"
   },
   "outputs": [],
   "source": []
  }
 ],
 "metadata": {
  "colab": {
   "collapsed_sections": [],
   "name": "my_KNN.ipynb",
   "provenance": [],
   "toc_visible": true
  },
  "kernelspec": {
   "display_name": "Python 3",
   "language": "python",
   "name": "python3"
  },
  "language_info": {
   "codemirror_mode": {
    "name": "ipython",
    "version": 3
   },
   "file_extension": ".py",
   "mimetype": "text/x-python",
   "name": "python",
   "nbconvert_exporter": "python",
   "pygments_lexer": "ipython3",
   "version": "3.7.3"
  }
 },
 "nbformat": 4,
 "nbformat_minor": 1
}
